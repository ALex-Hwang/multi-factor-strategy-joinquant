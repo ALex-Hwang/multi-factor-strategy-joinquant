{
 "cells": [
  {
   "cell_type": "code",
   "execution_count": 127,
   "metadata": {},
   "outputs": [
    {
     "data": {
      "text/plain": [
       "{'spare': 1000000, 'total': 1000000}"
      ]
     },
     "execution_count": 127,
     "metadata": {},
     "output_type": "execute_result"
    }
   ],
   "source": [
    "from jqdatasdk import *\n",
    "import numpy as np\n",
    "import pandas as pd\n",
    "auth('id','password') #ID是申请时所填写的手机号；Password为聚宽官网登录密码，新申请用户默认为手机号后6位\n",
    "get_query_count()#当前剩余可用数据条数"
   ]
  },
  {
   "cell_type": "code",
   "execution_count": 128,
   "metadata": {},
   "outputs": [],
   "source": [
    "#get_industry_stocks('I64')# 获取计算机/互联网行业的成分股\n",
    "#get_index_stocks('399951.XSHE', date=None)#获取沪深300银行指数成分股"
   ]
  },
  {
   "cell_type": "code",
   "execution_count": 129,
   "metadata": {},
   "outputs": [],
   "source": [
    "#该函数能够获得指定时间，指定股票成分股的截面数据\n",
    "def getdata(stock,datetime,gap):\n",
    "    #调取截面数据、计算月收益率数据\n",
    "    sample = get_index_stocks(stock, date=datetime)#股票除选择沪深300银行指数成分股\n",
    "    q = query(valuation.code, \n",
    "              valuation.market_cap,#市值\n",
    "              valuation.circulating_market_cap,\n",
    "              balance.total_assets - balance.total_liability,#净资产\n",
    "              balance.total_assets / balance.total_liability, \n",
    "              indicator.net_profit_to_total_revenue, #净利润/营业总收入\n",
    "              indicator.inc_revenue_year_on_year,  #营业收入增长率（同比）\n",
    "              balance.development_expenditure, #RD\n",
    "              valuation.pe_ratio, #市盈率（TTM）\n",
    "              valuation.pb_ratio, #市净率（TTM）\n",
    "              indicator.inc_net_profit_year_on_year,#净利润增长率（同比）\n",
    "              balance.dividend_payable,\n",
    "              indicator.roe,\n",
    "              indicator.roa,\n",
    "              income.operating_profit / income.total_profit, #OPTP\n",
    "              indicator.gross_profit_margin, #销售毛利率GPM\n",
    "              balance.fixed_assets / balance.total_assets, #FACR\n",
    "              valuation.pcf_ratio, #CFP\n",
    "              valuation.ps_ratio #PS\n",
    "            ).filter(\n",
    "                valuation.code.in_(sample)\n",
    "            )\n",
    "    df = get_fundamentals(q, date =datetime)\n",
    "    #df.index = df.code.values\n",
    "    del df['code']\n",
    "    df = df.fillna(0)\n",
    "    \n",
    "    #解决数据日期问题 选取未来一个月的日期\n",
    "    year = int(datetime[:4])\n",
    "    month = int(datetime[5:7])\n",
    "    day=int(datetime[8:10])\n",
    "    if month == 12:       \n",
    "        nexttime = str(year+1)+'-'+str(gap)+'-'+str(day)\n",
    "    else:  \n",
    "        nexttime = str(year)+'-'+str(month+gap)+'-'+str(day)\n",
    "        \n",
    "    #构建特征和标签\n",
    "    sample2 = get_index_stocks(stock, date=nexttime)#股票除选择沪深300银行指数成分股\n",
    "    q2 = query(valuation.code, \n",
    "              valuation.market_cap,#市值\n",
    "            ).filter(\n",
    "                valuation.code.in_(sample2)\n",
    "            )\n",
    "    df2=get_fundamentals(q2, date = nexttime)\n",
    "    del df2['code']\n",
    "    monthreturn=pd.DataFrame(df2['market_cap'].values/df['market_cap'].values, columns=['monthreturn'])\n",
    "    df=pd.concat([df,monthreturn],axis=1)\n",
    "    #df即为我们的训练集 用来训练回归模型 筛选变量和权重\n",
    "    return df"
   ]
  },
  {
   "cell_type": "code",
   "execution_count": 130,
   "metadata": {},
   "outputs": [],
   "source": [
    "#构建一个日期表，从这些日期中选取截面数据\n",
    "def return_datelist(start_date,end_date):\n",
    "    datelist=[]\n",
    "    #start_date:str, 初始日期\n",
    "    #end_date:str,终止日期\n",
    "    start_year = int(start_date[:4])\n",
    "    end_year = int(end_date[:4])\n",
    "    start_month = int(start_date[5:7])\n",
    "    end_month = int(end_date[5:7])\n",
    "    start_day=int(start_date[8:10])\n",
    "    end_day=int(end_date[8:10])\n",
    "    for i in range(end_month):\n",
    "        if(end_month-i<10):\n",
    "            date=str(end_year)+'-'+'0'+str(end_month-i)+'-'+str(end_day)\n",
    "            datelist=datelist+[date]\n",
    "        else:\n",
    "            date=str(end_year)+'-'+str(end_month-i)+'-'+str(end_day)\n",
    "            datelist=datelist+[date]\n",
    "    for i in range(13-start_month):\n",
    "        if(start_month+i<10):\n",
    "            date=str(start_year)+'-'+'0'+str(start_month+i)+'-'+str(start_day)\n",
    "            datelist=datelist+[date]\n",
    "        else:\n",
    "            date=str(start_year)+'-'+str(start_month+i)+'-'+str(start_day)\n",
    "            datelist=datelist+[date]          \n",
    "        current_year=start_year+1\n",
    "    while(current_year!=end_year):\n",
    "        for i in range(11):\n",
    "            if(i+1<10):\n",
    "                date=str(current_year)+'-'+'0'+str(i+1)+'-'+str(start_day)\n",
    "                datelist=datelist+[date]\n",
    "            else:\n",
    "                date=str(current_year)+'-'+str(i+1)+'-'+str(start_day)\n",
    "                datelist=datelist+[date]\n",
    "        current_year=current_year+1\n",
    "    return datelist    "
   ]
  },
  {
   "cell_type": "code",
   "execution_count": 157,
   "metadata": {},
   "outputs": [
    {
     "data": {
      "text/plain": [
       "(400, 19)"
      ]
     },
     "execution_count": 157,
     "metadata": {},
     "output_type": "execute_result"
    }
   ],
   "source": [
    "#获得训练数据集\n",
    "datelist=return_datelist(start_date='2013-10-15',end_date='2015-10-15')\n",
    "df=getdata(stock='399951.XSHE',datetime='2013-10-15',gap=1)\n",
    "for i in datelist:\n",
    "    dfnew=getdata(stock='399951.XSHE',datetime=i,gap=1)\n",
    "    df=pd.concat([df,dfnew],axis=0)\n",
    "df.shape"
   ]
  },
  {
   "cell_type": "code",
   "execution_count": 158,
   "metadata": {},
   "outputs": [
    {
     "data": {
      "text/plain": [
       "(400, 19)"
      ]
     },
     "execution_count": 158,
     "metadata": {},
     "output_type": "execute_result"
    }
   ],
   "source": [
    "#借助训练集进行回归模型的训练 归一化数据\n",
    "import matplotlib.pyplot as plt\n",
    "from sklearn.linear_model import LinearRegression\n",
    "from sklearn import preprocessing\n",
    "min_max_scaler = preprocessing.MinMaxScaler()\n",
    "df1=min_max_scaler.fit_transform(df)\n",
    "df2 = pd.DataFrame(df1, columns=df.columns)\n",
    "df2.shape"
   ]
  },
  {
   "cell_type": "code",
   "execution_count": 159,
   "metadata": {},
   "outputs": [
    {
     "data": {
      "text/plain": [
       "((400, 18), (400,))"
      ]
     },
     "execution_count": 159,
     "metadata": {},
     "output_type": "execute_result"
    }
   ],
   "source": [
    "y=df2['monthreturn']\n",
    "x=df2.drop(columns = ['monthreturn'])\n",
    "x.shape,y.shape"
   ]
  },
  {
   "cell_type": "code",
   "execution_count": 160,
   "metadata": {},
   "outputs": [
    {
     "name": "stdout",
     "output_type": "stream",
     "text": [
      "[-1.84304025e-01 -3.06198850e-02  1.60895871e-01  1.70025869e-01\n",
      " -4.78423493e-02  1.76786229e-01 -8.74300632e-16  1.58766816e-01\n",
      " -3.79950914e-01 -2.63670587e-01  3.39311135e-02  3.43374766e-01\n",
      " -2.79462321e-01  9.18125757e-02  0.00000000e+00  1.13152446e-02\n",
      " -4.61600751e-02 -4.52255485e-02]\n"
     ]
    },
    {
     "data": {
      "text/plain": [
       "[<matplotlib.lines.Line2D at 0x1c884ea2c88>]"
      ]
     },
     "execution_count": 160,
     "metadata": {},
     "output_type": "execute_result"
    },
    {
     "data": {
      "image/png": "[encoded data removed]",
      "text/plain": [
       "<Figure size 432x288 with 1 Axes>"
      ]
     },
     "metadata": {},
     "output_type": "display_data"
    }
   ],
   "source": [
    "#利用线性模型得到权重\n",
    "from sklearn.linear_model import LinearRegression\n",
    "lr=LinearRegression()\n",
    "lr.fit(x, y)\n",
    "print(lr.coef_)\n",
    "plt.plot(lr.coef_,'o', label = 'linear regression')"
   ]
  },
  {
   "cell_type": "code",
   "execution_count": 161,
   "metadata": {},
   "outputs": [
    {
     "name": "stdout",
     "output_type": "stream",
     "text": [
      "[-0.         -0.          0.          0.          0.02263684  0.12729578\n",
      "  0.         -0.         -0.00548703  0.          0.          0.\n",
      "  0.          0.10214221  0.          0.01761991  0.42324258 -0.        ]\n"
     ]
    },
    {
     "data": {
      "text/plain": [
       "[<matplotlib.lines.Line2D at 0x1c884e97390>]"
      ]
     },
     "execution_count": 161,
     "metadata": {},
     "output_type": "execute_result"
    },
    {
     "data": {
      "image/png": "[encoded data removed]",
      "text/plain": [
       "<Figure size 432x288 with 1 Axes>"
      ]
     },
     "metadata": {},
     "output_type": "display_data"
    }
   ],
   "source": [
    "#利用线性模型得到权重\n",
    "from sklearn.linear_model import Lasso\n",
    "lasso = Lasso(fit_intercept=False)\n",
    "lasso.set_params(alpha=0.004)\n",
    "lasso.fit(x, y)\n",
    "print(lasso.coef_)\n",
    "plt.plot(lasso.coef_,'o', label = 'linear regression')"
   ]
  },
  {
   "cell_type": "code",
   "execution_count": 162,
   "metadata": {},
   "outputs": [
    {
     "name": "stdout",
     "output_type": "stream",
     "text": [
      "[-0.01834382 -0.01282341 -0.          0.00508764 -0.00061548  0.08580345\n",
      "  0.         -0.00359498 -0.12210169 -0.          0.         -0.00643674\n",
      " -0.          0.          0.          0.00116625 -0.         -0.06356195]\n"
     ]
    },
    {
     "data": {
      "text/plain": [
       "[<matplotlib.lines.Line2D at 0x1c88835bba8>]"
      ]
     },
     "execution_count": 162,
     "metadata": {},
     "output_type": "execute_result"
    },
    {
     "data": {
      "image/png": "[encoded data removed]",
      "text/plain": [
       "<Figure size 432x288 with 1 Axes>"
      ]
     },
     "metadata": {},
     "output_type": "display_data"
    }
   ],
   "source": [
    "#利用线性模型得到权重\n",
    "from sklearn.linear_model import ElasticNet\n",
    "enet=ElasticNet(alpha=.01,l1_ratio=0.06)\n",
    "enet.fit(x, y)\n",
    "print(enet.coef_)\n",
    "plt.plot(enet.coef_,'o', label = 'linear regression')"
   ]
  },
  {
   "cell_type": "code",
   "execution_count": 119,
   "metadata": {},
   "outputs": [],
   "source": [
    "#开始模拟投资 读取当天的相关截面数据 预测收益率 并对股票按收益率排序\n",
    "sample3 = get_index_stocks('399951.XSHE', date=None)#股票除选择沪深300银行指数成分股\n",
    "q3 = query(valuation.code, \n",
    "          valuation.market_cap,#市值\n",
    "          valuation.circulating_market_cap,\n",
    "          balance.total_assets - balance.total_liability,#净资产\n",
    "          balance.total_assets / balance.total_liability, \n",
    "          indicator.net_profit_to_total_revenue, #净利润/营业总收入\n",
    "          indicator.inc_revenue_year_on_year,  #营业收入增长率（同比）\n",
    "          balance.development_expenditure, #RD\n",
    "          valuation.pe_ratio, #市盈率（TTM）\n",
    "          valuation.pb_ratio, #市净率（TTM）\n",
    "          indicator.inc_net_profit_year_on_year,#净利润增长率（同比）\n",
    "          balance.dividend_payable,\n",
    "          indicator.roe,\n",
    "          indicator.roa,\n",
    "          income.operating_profit / income.total_profit, #OPTP\n",
    "          indicator.gross_profit_margin, #销售毛利率GPM\n",
    "          balance.fixed_assets / balance.total_assets, #FACR\n",
    "          valuation.pcf_ratio, #CFP\n",
    "          valuation.ps_ratio #PS\n",
    "        ).filter(\n",
    "            valuation.code.in_(sample3)\n",
    "        )\n",
    "df = get_fundamentals(q3,date=None)\n",
    "df.index = df.code.values\n",
    "del df['code']\n",
    "df = df.fillna(0)"
   ]
  },
  {
   "cell_type": "code",
   "execution_count": 120,
   "metadata": {},
   "outputs": [
    {
     "name": "stderr",
     "output_type": "stream",
     "text": [
      "E:\\anoconda\\envs\\tensorflow\\lib\\site-packages\\ipykernel_launcher.py:12: FutureWarning: by argument to sort_index is deprecated, please use .sort_values(by=...)\n",
      "  if sys.path[0] == '':\n"
     ]
    }
   ],
   "source": [
    "#实现预测+排序\n",
    "import numpy as np\n",
    "import pandas as pd\n",
    "import matplotlib.pyplot as plt\n",
    "from sklearn.linear_model import LinearRegression\n",
    "from sklearn import preprocessing\n",
    "min_max_scaler = preprocessing.MinMaxScaler()\n",
    "df1=min_max_scaler.fit_transform(df)\n",
    "df2 = pd.DataFrame(df1, columns=df.columns,index=df.index)\n",
    "x=df2\n",
    "factor = pd.DataFrame(lr.predict(x), index = df.index, columns = ['monthreturn'])\n",
    "factor = factor.sort_index(by = 'monthreturn')#做了个排序\n",
    "stockset = list(factor.index[:10])#选排名前十的股票"
   ]
  },
  {
   "cell_type": "code",
   "execution_count": 121,
   "metadata": {},
   "outputs": [
    {
     "data": {
      "text/plain": [
       "['600036.XSHG',\n",
       " '002142.XSHE',\n",
       " '601838.XSHG',\n",
       " '601009.XSHG',\n",
       " '601166.XSHG',\n",
       " '601997.XSHG',\n",
       " '601577.XSHG',\n",
       " '601229.XSHG',\n",
       " '600928.XSHG',\n",
       " '600926.XSHG']"
      ]
     },
     "execution_count": 121,
     "metadata": {},
     "output_type": "execute_result"
    }
   ],
   "source": [
    "stockset"
   ]
  },
  {
   "cell_type": "code",
   "execution_count": null,
   "metadata": {},
   "outputs": [],
   "source": []
  },
  {
   "cell_type": "code",
   "execution_count": null,
   "metadata": {},
   "outputs": [],
   "source": []
  }
 ],
 "metadata": {
  "kernelspec": {
   "display_name": "Python 3",
   "language": "python",
   "name": "python3"
  },
  "language_info": {
   "codemirror_mode": {
    "name": "ipython",
    "version": 3
   },
   "file_extension": ".py",
   "mimetype": "text/x-python",
   "name": "python",
   "nbconvert_exporter": "python",
   "pygments_lexer": "ipython3",
   "version": "3.5.5"
  }
 },
 "nbformat": 4,
 "nbformat_minor": 2
}
