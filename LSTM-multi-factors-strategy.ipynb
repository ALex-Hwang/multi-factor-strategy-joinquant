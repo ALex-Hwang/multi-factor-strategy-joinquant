{
 "cells": [
  {
   "cell_type": "code",
   "execution_count": 150,
   "metadata": {},
   "outputs": [
    {
     "data": {
      "text/plain": [
       "{'spare': 965319, 'total': 1000000}"
      ]
     },
     "execution_count": 150,
     "metadata": {},
     "output_type": "execute_result"
    }
   ],
   "source": [
    "from jqdatasdk import *\n",
    "import numpy as np\n",
    "import pandas as pd\n",
    "from keras.models import Sequential\n",
    "from keras.layers.core import Dense, Dropout, Activation\n",
    "from keras.layers.recurrent import LSTM\n",
    "#倒入一些必要的库\n",
    "auth('id','password') #ID是申请时所填写的手机号；Password为聚宽官网登录密码，新申请用户默认为手机号后6位\n",
    "get_query_count()#当前剩余可用数据条数"
   ]
  },
  {
   "cell_type": "code",
   "execution_count": 151,
   "metadata": {},
   "outputs": [],
   "source": [
    "#get_industry_stocks('I64')# 获取计算机/互联网行业的成分股\n",
    "#get_index_stocks('399951.XSHE', date=None)#获取沪深300银行指数成分股"
   ]
  },
  {
   "cell_type": "code",
   "execution_count": 152,
   "metadata": {},
   "outputs": [],
   "source": [
    "#该函数能够获得指定时间，指定股票成分股的截面数据\n",
    "def getdata(stock,datetime,gap):\n",
    "    #调取截面数据、计算月收益率数据\n",
    "    sample = get_index_stocks(stock, date=datetime)#股票除选择沪深300银行指数成分股\n",
    "    q = query(valuation.code, \n",
    "              valuation.market_cap,#市值\n",
    "              valuation.circulating_market_cap,\n",
    "              balance.total_assets - balance.total_liability,#净资产\n",
    "              balance.total_assets / balance.total_liability, \n",
    "              indicator.net_profit_to_total_revenue, #净利润/营业总收入\n",
    "              indicator.inc_revenue_year_on_year,  #营业收入增长率（同比）\n",
    "              balance.development_expenditure, #RD\n",
    "              valuation.pe_ratio, #市盈率（TTM）\n",
    "              valuation.pb_ratio, #市净率（TTM）\n",
    "              indicator.inc_net_profit_year_on_year,#净利润增长率（同比）\n",
    "              balance.dividend_payable,\n",
    "              indicator.roe,\n",
    "              indicator.roa,\n",
    "              income.operating_profit / income.total_profit, #OPTP\n",
    "              indicator.gross_profit_margin, #销售毛利率GPM\n",
    "              balance.fixed_assets / balance.total_assets, #FACR\n",
    "              valuation.pcf_ratio, #CFP\n",
    "              valuation.ps_ratio #PS\n",
    "            ).filter(\n",
    "                valuation.code.in_(sample)\n",
    "            )\n",
    "    df = get_fundamentals(q, date =datetime)\n",
    "    #df.index = df.code.values\n",
    "    del df['code']\n",
    "    df = df.fillna(0)\n",
    "    \n",
    "    #解决数据日期问题 选取未来一个月的日期\n",
    "    year = int(datetime[:4])\n",
    "    month = int(datetime[5:7])\n",
    "    day=int(datetime[8:10])\n",
    "    if month == 12:       \n",
    "        nexttime = str(year+1)+'-'+str(gap)+'-'+str(day)\n",
    "    else:  \n",
    "        nexttime = str(year)+'-'+str(month+gap)+'-'+str(day)\n",
    "        \n",
    "    #构建特征和标签\n",
    "    sample2 = get_index_stocks(stock, date=nexttime)#股票除选择沪深300银行指数成分股\n",
    "    q2 = query(valuation.code, \n",
    "              valuation.market_cap,#市值\n",
    "            ).filter(\n",
    "                valuation.code.in_(sample2)\n",
    "            )\n",
    "    df2=get_fundamentals(q2, date = nexttime)\n",
    "    del df2['code']\n",
    "    monthreturn=pd.DataFrame(df2['market_cap'].values/df['market_cap'].values, columns=['monthreturn'])\n",
    "    df=pd.concat([df,monthreturn],axis=1)\n",
    "    #df即为我们的训练集 用来训练回归模型 筛选变量和权重\n",
    "    return df"
   ]
  },
  {
   "cell_type": "code",
   "execution_count": 153,
   "metadata": {},
   "outputs": [],
   "source": [
    "#构建一个日期表，从这些日期中选取截面数据\n",
    "def return_datelist(start_date,end_date):\n",
    "    datelist=[]\n",
    "    #start_date:str, 初始日期\n",
    "    #end_date:str,终止日期\n",
    "    start_year = int(start_date[:4])\n",
    "    end_year = int(end_date[:4])\n",
    "    start_month = int(start_date[5:7])\n",
    "    end_month = int(end_date[5:7])\n",
    "    start_day=int(start_date[8:10])\n",
    "    end_day=int(end_date[8:10])\n",
    "    for i in range(end_month):\n",
    "        if(end_month-i<10):\n",
    "            date=str(end_year)+'-'+'0'+str(end_month-i)+'-'+str(end_day)\n",
    "            datelist=datelist+[date]\n",
    "        else:\n",
    "            date=str(end_year)+'-'+str(end_month-i)+'-'+str(end_day)\n",
    "            datelist=datelist+[date]\n",
    "    for i in range(13-start_month):\n",
    "        if(start_month+i<10):\n",
    "            date=str(start_year)+'-'+'0'+str(start_month+i)+'-'+str(start_day)\n",
    "            datelist=datelist+[date]\n",
    "        else:\n",
    "            date=str(start_year)+'-'+str(start_month+i)+'-'+str(start_day)\n",
    "            datelist=datelist+[date]          \n",
    "        current_year=start_year+1\n",
    "    while(current_year!=end_year):\n",
    "        for i in range(11):\n",
    "            if(i+1<10):\n",
    "                date=str(current_year)+'-'+'0'+str(i+1)+'-'+str(start_day)\n",
    "                datelist=datelist+[date]\n",
    "            else:\n",
    "                date=str(current_year)+'-'+str(i+1)+'-'+str(start_day)\n",
    "                datelist=datelist+[date]\n",
    "        current_year=current_year+1\n",
    "    return datelist    "
   ]
  },
  {
   "cell_type": "code",
   "execution_count": 154,
   "metadata": {},
   "outputs": [
    {
     "data": {
      "text/plain": [
       "(896, 19)"
      ]
     },
     "execution_count": 154,
     "metadata": {},
     "output_type": "execute_result"
    }
   ],
   "source": [
    "#获得训练数据集\n",
    "start_date='2011-01-15'\n",
    "end_date='2015-10-15'\n",
    "monthgap=1\n",
    "datelist=return_datelist(start_date=start_date,end_date=end_date)\n",
    "df=getdata(stock='399951.XSHE',datetime=start_date,gap=monthgap)\n",
    "for i in datelist:\n",
    "    dfnew=getdata(stock='399951.XSHE',datetime=i,gap=1)\n",
    "    df=pd.concat([df,dfnew],axis=0)\n",
    "df.shape"
   ]
  },
  {
   "cell_type": "code",
   "execution_count": 155,
   "metadata": {},
   "outputs": [
    {
     "data": {
      "text/plain": [
       "(896, 19)"
      ]
     },
     "execution_count": 155,
     "metadata": {},
     "output_type": "execute_result"
    }
   ],
   "source": [
    "#借助训练集进行回归模型的训练 归一化数据\n",
    "import matplotlib.pyplot as plt\n",
    "from sklearn.linear_model import LinearRegression\n",
    "from sklearn import preprocessing\n",
    "min_max_scaler = preprocessing.MinMaxScaler()\n",
    "df1=min_max_scaler.fit_transform(df)\n",
    "df2 = pd.DataFrame(df1, columns=df.columns)\n",
    "df2.shape"
   ]
  },
  {
   "cell_type": "code",
   "execution_count": 156,
   "metadata": {},
   "outputs": [
    {
     "data": {
      "text/plain": [
       "((896, 18), (896,))"
      ]
     },
     "execution_count": 156,
     "metadata": {},
     "output_type": "execute_result"
    }
   ],
   "source": [
    "y=df2['monthreturn']\n",
    "x=df2.drop(columns = ['monthreturn'])\n",
    "x.shape,y.shape"
   ]
  },
  {
   "cell_type": "code",
   "execution_count": 157,
   "metadata": {},
   "outputs": [
    {
     "name": "stdout",
     "output_type": "stream",
     "text": [
      "[-3.77933428e-02 -1.55410523e-02  3.45915659e-02  9.57118182e-02\n",
      " -7.97701635e-03  8.67343538e-02  1.59594560e-16 -7.55800571e-02\n",
      " -1.02128119e-01 -9.43221465e-02 -6.82583564e-03  2.24140271e-01\n",
      " -2.22377399e-01 -1.15697545e-02 -6.93889390e-17  1.41766901e-02\n",
      "  2.33825464e-03  4.96848230e-03]\n"
     ]
    },
    {
     "data": {
      "text/plain": [
       "[<matplotlib.lines.Line2D at 0x20960249710>]"
      ]
     },
     "execution_count": 157,
     "metadata": {},
     "output_type": "execute_result"
    },
    {
     "data": {
      "image/png": "[encoded data removed]",
      "text/plain": [
       "<Figure size 432x288 with 1 Axes>"
      ]
     },
     "metadata": {},
     "output_type": "display_data"
    }
   ],
   "source": [
    "#利用线性模型得到权重\n",
    "from sklearn.linear_model import LinearRegression\n",
    "lr=LinearRegression()\n",
    "lr.fit(x, y)\n",
    "print(lr.coef_)\n",
    "plt.plot(lr.coef_,'o', label = 'linear regression')"
   ]
  },
  {
   "cell_type": "code",
   "execution_count": 158,
   "metadata": {},
   "outputs": [
    {
     "name": "stdout",
     "output_type": "stream",
     "text": [
      "[-0.01162734 -0.00419049  0.          0.12681069  0.00973815  0.07683682\n",
      "  0.         -0.0425415  -0.06444428  0.          0.          0.18016636\n",
      " -0.18905393  0.17829171  0.          0.01567158  0.23441865 -0.05182311]\n"
     ]
    },
    {
     "data": {
      "text/plain": [
       "[<matplotlib.lines.Line2D at 0x20960270d30>]"
      ]
     },
     "execution_count": 158,
     "metadata": {},
     "output_type": "execute_result"
    },
    {
     "data": {
      "image/png": "[encoded data removed]",
      "text/plain": [
       "<Figure size 432x288 with 1 Axes>"
      ]
     },
     "metadata": {},
     "output_type": "display_data"
    }
   ],
   "source": [
    "#利用线性模型得到权重\n",
    "from sklearn.linear_model import Lasso\n",
    "lasso = Lasso(fit_intercept=False)\n",
    "lasso.set_params(alpha=0.0002)\n",
    "lasso.fit(x, y)\n",
    "print(lasso.coef_)\n",
    "plt.plot(lasso.coef_,'o', label = 'linear regression')"
   ]
  },
  {
   "cell_type": "code",
   "execution_count": 159,
   "metadata": {},
   "outputs": [
    {
     "name": "stdout",
     "output_type": "stream",
     "text": [
      "[-0.01158481 -0.00611452 -0.         -0.01763291 -0.          0.03017785\n",
      "  0.         -0.03793117 -0.07131147 -0.         -0.          0.\n",
      " -0.01458891  0.          0.         -0.         -0.         -0.03967986]\n"
     ]
    },
    {
     "data": {
      "text/plain": [
       "[<matplotlib.lines.Line2D at 0x209602a3cc0>]"
      ]
     },
     "execution_count": 159,
     "metadata": {},
     "output_type": "execute_result"
    },
    {
     "data": {
      "image/png": "[encoded data removed]",
      "text/plain": [
       "<Figure size 432x288 with 1 Axes>"
      ]
     },
     "metadata": {},
     "output_type": "display_data"
    }
   ],
   "source": [
    "#利用线性模型得到权重\n",
    "from sklearn.linear_model import ElasticNet\n",
    "enet=ElasticNet(alpha=.005,l1_ratio=0.05)\n",
    "enet.fit(x, y)\n",
    "print(enet.coef_)\n",
    "plt.plot(enet.coef_,'o', label = 'linear regression')"
   ]
  },
  {
   "cell_type": "code",
   "execution_count": 160,
   "metadata": {},
   "outputs": [],
   "source": [
    "window=1\n",
    "feanum=x.shape[1]\n",
    "x=x.values\n",
    "x=np.reshape(x, (x.shape[0],1, x.shape[1]))"
   ]
  },
  {
   "cell_type": "code",
   "execution_count": null,
   "metadata": {},
   "outputs": [],
   "source": []
  },
  {
   "cell_type": "code",
   "execution_count": 200,
   "metadata": {},
   "outputs": [
    {
     "name": "stderr",
     "output_type": "stream",
     "text": [
      "E:\\anoconda\\envs\\tensorflow\\lib\\site-packages\\ipykernel_launcher.py:8: UserWarning: Update your `Dense` call to the Keras 2 API: `Dense(4, activation=\"relu\", kernel_initializer=\"uniform\")`\n",
      "  \n",
      "E:\\anoconda\\envs\\tensorflow\\lib\\site-packages\\ipykernel_launcher.py:9: UserWarning: Update your `Dense` call to the Keras 2 API: `Dense(1, activation=\"relu\", kernel_initializer=\"uniform\")`\n",
      "  if __name__ == '__main__':\n",
      "E:\\anoconda\\envs\\tensorflow\\lib\\site-packages\\ipykernel_launcher.py:11: UserWarning: The `nb_epoch` argument in `fit` has been renamed `epochs`.\n",
      "  # This is added back by InteractiveShellApp.init_path()\n"
     ]
    },
    {
     "name": "stdout",
     "output_type": "stream",
     "text": [
      "Epoch 1/30\n",
      "896/896 [==============================] - 4s 4ms/step - loss: 0.1521 - acc: 0.0011 \n",
      "Epoch 2/30\n",
      "896/896 [==============================] - 0s 65us/step - loss: 0.1413 - acc: 0.0011\n",
      "Epoch 3/30\n",
      "896/896 [==============================] - 0s 63us/step - loss: 0.1297 - acc: 0.0011\n",
      "Epoch 4/30\n",
      "896/896 [==============================] - 0s 62us/step - loss: 0.1170 - acc: 0.0011\n",
      "Epoch 5/30\n",
      "896/896 [==============================] - 0s 71us/step - loss: 0.1027 - acc: 0.0011\n",
      "Epoch 6/30\n",
      "896/896 [==============================] - 0s 111us/step - loss: 0.0860 - acc: 0.0011\n",
      "Epoch 7/30\n",
      "896/896 [==============================] - 0s 75us/step - loss: 0.0669 - acc: 0.0011\n",
      "Epoch 8/30\n",
      "896/896 [==============================] - 0s 62us/step - loss: 0.0469 - acc: 0.0011\n",
      "Epoch 9/30\n",
      "896/896 [==============================] - 0s 80us/step - loss: 0.0295 - acc: 0.0011\n",
      "Epoch 10/30\n",
      "896/896 [==============================] - 0s 78us/step - loss: 0.0181 - acc: 0.0011\n",
      "Epoch 11/30\n",
      "896/896 [==============================] - 0s 66us/step - loss: 0.0149 - acc: 0.0011\n",
      "Epoch 12/30\n",
      "896/896 [==============================] - 0s 64us/step - loss: 0.0146 - acc: 0.0011\n",
      "Epoch 13/30\n",
      "896/896 [==============================] - 0s 66us/step - loss: 0.0147 - acc: 0.0011\n",
      "Epoch 14/30\n",
      "896/896 [==============================] - 0s 69us/step - loss: 0.0145 - acc: 0.0011\n",
      "Epoch 15/30\n",
      "896/896 [==============================] - 0s 69us/step - loss: 0.0145 - acc: 0.0011\n",
      "Epoch 16/30\n",
      "896/896 [==============================] - 0s 65us/step - loss: 0.0143 - acc: 0.0011\n",
      "Epoch 17/30\n",
      "896/896 [==============================] - 0s 62us/step - loss: 0.0144 - acc: 0.0011\n",
      "Epoch 18/30\n",
      "896/896 [==============================] - 0s 71us/step - loss: 0.0143 - acc: 0.0011\n",
      "Epoch 19/30\n",
      "896/896 [==============================] - 0s 62us/step - loss: 0.0142 - acc: 0.0011\n",
      "Epoch 20/30\n",
      "896/896 [==============================] - 0s 71us/step - loss: 0.0142 - acc: 0.0011\n",
      "Epoch 21/30\n",
      "896/896 [==============================] - 0s 71us/step - loss: 0.0143 - acc: 0.0011\n",
      "Epoch 22/30\n",
      "896/896 [==============================] - 0s 75us/step - loss: 0.0142 - acc: 0.0011\n",
      "Epoch 23/30\n",
      "896/896 [==============================] - 0s 71us/step - loss: 0.0143 - acc: 0.0011\n",
      "Epoch 24/30\n",
      "896/896 [==============================] - 0s 70us/step - loss: 0.0142 - acc: 0.0011\n",
      "Epoch 25/30\n",
      "896/896 [==============================] - 0s 66us/step - loss: 0.0142 - acc: 0.0011\n",
      "Epoch 26/30\n",
      "896/896 [==============================] - 0s 70us/step - loss: 0.0142 - acc: 0.0011\n",
      "Epoch 27/30\n",
      "896/896 [==============================] - 0s 67us/step - loss: 0.0140 - acc: 0.0011\n",
      "Epoch 28/30\n",
      "896/896 [==============================] - 0s 65us/step - loss: 0.0142 - acc: 0.0011\n",
      "Epoch 29/30\n",
      "896/896 [==============================] - 0s 66us/step - loss: 0.0142 - acc: 0.0011\n",
      "Epoch 30/30\n",
      "896/896 [==============================] - 0s 65us/step - loss: 0.0141 - acc: 0.0011\n"
     ]
    },
    {
     "data": {
      "text/plain": [
       "<keras.callbacks.History at 0x20908809ba8>"
      ]
     },
     "execution_count": 200,
     "metadata": {},
     "output_type": "execute_result"
    }
   ],
   "source": [
    "#建立、训练模型过程\n",
    "d = 0.01\n",
    "model = Sequential()#建立层次模型\n",
    "model.add(LSTM(16, input_shape=(window, feanum), return_sequences=True))#建立LSTM层\n",
    "model.add(Dropout(d))#建立的遗忘层\n",
    "model.add(LSTM(4, input_shape=(window, feanum), return_sequences=False))#建立LSTM层\n",
    "model.add(Dropout(d))#建立的遗忘层\n",
    "model.add(Dense(4,init='uniform',activation='relu'))   #建立全连接层     \n",
    "model.add(Dense(1,init='uniform',activation='relu'))\n",
    "model.compile(loss='mse',optimizer='adam',metrics=['accuracy'])\n",
    "model.fit(x, y, nb_epoch =30, batch_size = 64) #训练模型nb_epoch次"
   ]
  },
  {
   "cell_type": "code",
   "execution_count": 201,
   "metadata": {},
   "outputs": [],
   "source": [
    "#在训练集上的拟合结果\n",
    "predict=model.predict(x)[:,0]"
   ]
  },
  {
   "cell_type": "code",
   "execution_count": 202,
   "metadata": {},
   "outputs": [
    {
     "data": {
      "text/plain": [
       "Text(0.5,1,'Train Data')"
      ]
     },
     "execution_count": 202,
     "metadata": {},
     "output_type": "execute_result"
    },
    {
     "data": {
      "image/png": "[encoded data removed]",
      "text/plain": [
       "<Figure size 864x432 with 1 Axes>"
      ]
     },
     "metadata": {},
     "output_type": "display_data"
    }
   ],
   "source": [
    "draw=pd.concat([pd.DataFrame(y.values),pd.DataFrame(predict)],axis=1)\n",
    "draw.iloc[100:400,0].plot(figsize=(12,6))\n",
    "draw.iloc[100:400,1].plot(figsize=(12,6))\n",
    "plt.legend(('real', 'predict'),loc='upper right',fontsize='15')\n",
    "plt.title(\"Train Data\",fontsize='30') #添加标题\n",
    "#展示在训练集上的表现 "
   ]
  },
  {
   "cell_type": "code",
   "execution_count": null,
   "metadata": {},
   "outputs": [],
   "source": []
  },
  {
   "cell_type": "code",
   "execution_count": null,
   "metadata": {},
   "outputs": [],
   "source": []
  },
  {
   "cell_type": "code",
   "execution_count": 203,
   "metadata": {},
   "outputs": [],
   "source": [
    "#开始模拟投资 读取当天的相关截面数据 预测收益率 并对股票按收益率排序\n",
    "sample3 = get_index_stocks('399951.XSHE', date=None)#股票除选择沪深300银行指数成分股\n",
    "q3 = query(valuation.code, \n",
    "          valuation.market_cap,#市值\n",
    "          valuation.circulating_market_cap,\n",
    "          balance.total_assets - balance.total_liability,#净资产\n",
    "          balance.total_assets / balance.total_liability, \n",
    "          indicator.net_profit_to_total_revenue, #净利润/营业总收入\n",
    "          indicator.inc_revenue_year_on_year,  #营业收入增长率（同比）\n",
    "          balance.development_expenditure, #RD\n",
    "          valuation.pe_ratio, #市盈率（TTM）\n",
    "          valuation.pb_ratio, #市净率（TTM）\n",
    "          indicator.inc_net_profit_year_on_year,#净利润增长率（同比）\n",
    "          balance.dividend_payable,\n",
    "          indicator.roe,\n",
    "          indicator.roa,\n",
    "          income.operating_profit / income.total_profit, #OPTP\n",
    "          indicator.gross_profit_margin, #销售毛利率GPM\n",
    "          balance.fixed_assets / balance.total_assets, #FACR\n",
    "          valuation.pcf_ratio, #CFP\n",
    "          valuation.ps_ratio #PS\n",
    "        ).filter(\n",
    "            valuation.code.in_(sample3)\n",
    "        )\n",
    "df = get_fundamentals(q3,date=None)\n",
    "df.index = df.code.values\n",
    "del df['code']\n",
    "df = df.fillna(0)"
   ]
  },
  {
   "cell_type": "code",
   "execution_count": 206,
   "metadata": {},
   "outputs": [
    {
     "name": "stderr",
     "output_type": "stream",
     "text": [
      "E:\\anoconda\\envs\\tensorflow\\lib\\site-packages\\ipykernel_launcher.py:9: FutureWarning: by argument to sort_index is deprecated, please use .sort_values(by=...)\n",
      "  if __name__ == '__main__':\n"
     ]
    }
   ],
   "source": [
    "#实现预测+排序\n",
    "min_max_scaler = preprocessing.MinMaxScaler()\n",
    "df1=min_max_scaler.fit_transform(df)\n",
    "df2 = pd.DataFrame(df1, columns=df.columns,index=df.index)\n",
    "x=df2\n",
    "x=x.values\n",
    "x=np.reshape(x, (x.shape[0],1, x.shape[1]))\n",
    "factor = pd.DataFrame(model.predict(x), index = df.index, columns = ['monthreturn'])\n",
    "factor = factor.sort_index(by = 'monthreturn')#做了个排序\n",
    "stockset = list(factor.index[:10])#选排名前十的股票"
   ]
  },
  {
   "cell_type": "code",
   "execution_count": 207,
   "metadata": {},
   "outputs": [
    {
     "data": {
      "text/plain": [
       "['600015.XSHG',\n",
       " '601988.XSHG',\n",
       " '601229.XSHG',\n",
       " '601998.XSHG',\n",
       " '600926.XSHG',\n",
       " '601818.XSHG',\n",
       " '600016.XSHG',\n",
       " '601169.XSHG',\n",
       " '601328.XSHG',\n",
       " '600919.XSHG']"
      ]
     },
     "execution_count": 207,
     "metadata": {},
     "output_type": "execute_result"
    }
   ],
   "source": [
    "stockset"
   ]
  },
  {
   "cell_type": "code",
   "execution_count": null,
   "metadata": {},
   "outputs": [],
   "source": []
  },
  {
   "cell_type": "code",
   "execution_count": null,
   "metadata": {},
   "outputs": [],
   "source": []
  }
 ],
 "metadata": {
  "kernelspec": {
   "display_name": "Python 3",
   "language": "python",
   "name": "python3"
  },
  "language_info": {
   "codemirror_mode": {
    "name": "ipython",
    "version": 3
   },
   "file_extension": ".py",
   "mimetype": "text/x-python",
   "name": "python",
   "nbconvert_exporter": "python",
   "pygments_lexer": "ipython3",
   "version": "3.5.5"
  }
 },
 "nbformat": 4,
 "nbformat_minor": 2
}
